{
 "cells": [
  {
   "cell_type": "markdown",
   "metadata": {},
   "source": [
    "### __value__ ###\n",
    "* particulate matter warning system\n",
    "* protect community health by warning population in case of expected high particulate matter load\n",
    "\n",
    "### __stakeholder__ ###  \n",
    "* Ministry of Health, which makes the warning system available to various stakeholders and to the population\n",
    "\n",
    "### __prediction__  ###\n",
    "* particulate matter concentration [µg/m^3] at 24 hours after last weather observation out of a sequence of five days of weather observations\n",
    "* predictions using data of all the five stations combined and predictions for the five stations separately \n",
    "\n",
    "### __metric__ ###\n",
    "* RMSE <br /> \n",
    "\n",
    "### __baseline model__ ###\n",
    "* predicting long-term mean particulate matter concentration using data of all five stations combined\n",
    "* score: RMSE = 42.37 µg/m^3 \n",
    "\n"
   ]
  },
  {
   "cell_type": "markdown",
   "metadata": {},
   "source": [
    "### __models__ ###\n",
    "* multivariate linear regression (regularization, gradient descent)\n",
    "* decision tree for regression (no scaling required)\n",
    "* random forest\n",
    "* optional: ensemble methods \n",
    "* (k-nearest neighbours algorithm (scaling))\n",
    "* (support vector machines)"
   ]
  },
  {
   "cell_type": "markdown",
   "metadata": {},
   "source": []
  }
 ],
 "metadata": {
  "language_info": {
   "name": "python"
  },
  "orig_nbformat": 4
 },
 "nbformat": 4,
 "nbformat_minor": 2
}
