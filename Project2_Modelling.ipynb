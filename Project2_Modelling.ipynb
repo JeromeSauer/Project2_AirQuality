{
 "cells": [
  {
   "cell_type": "code",
   "execution_count": null,
   "metadata": {},
   "outputs": [],
   "source": [
    "## load modules\n",
    "import numpy as np\n",
    "import pandas as pd\n",
    "import matplotlib.pyplot as plt\n",
    "import seaborn as sns "
   ]
  },
  {
   "cell_type": "code",
   "execution_count": null,
   "metadata": {},
   "outputs": [],
   "source": [
    "## helper functions\n",
    "\n",
    "# define root mean square error\n",
    "def RMSE(x,y):\n",
    "    return np.sqrt(np.mean((x-y)**2))    "
   ]
  },
  {
   "cell_type": "code",
   "execution_count": null,
   "metadata": {},
   "outputs": [],
   "source": [
    "# perform and evaluate baseline model\n",
    "# y_pred_baseline = np.ones(y.shape[0]) * np.mean(y)\n",
    "# score = RMSE(y,y_pred_baseline)\n",
    "# print(score)\n"
   ]
  }
 ],
 "metadata": {
  "language_info": {
   "name": "python"
  },
  "orig_nbformat": 4
 },
 "nbformat": 4,
 "nbformat_minor": 2
}
