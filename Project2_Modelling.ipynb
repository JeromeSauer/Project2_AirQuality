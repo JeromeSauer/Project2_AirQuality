{
 "cells": [
  {
   "cell_type": "code",
   "execution_count": 132,
   "metadata": {},
   "outputs": [],
   "source": [
    "## load modules\n",
    "import numpy as np\n",
    "import pandas as pd\n",
    "import matplotlib.pyplot as plt\n",
    "import seaborn as sns\n",
    "from sklearn.linear_model import LinearRegression\n",
    "from sklearn.preprocessing import StandardScaler\n",
    "from sklearn.model_selection import train_test_split\n",
    "from sklearn import metrics\n",
    "RSEED=42"
   ]
  },
  {
   "cell_type": "code",
   "execution_count": 133,
   "metadata": {},
   "outputs": [],
   "source": [
    "## helper functions\n",
    "\n",
    "# define root mean square error\n",
    "def RMSE(x,y):\n",
    "    return np.sqrt(np.mean((x-y)**2))    "
   ]
  },
  {
   "cell_type": "code",
   "execution_count": 134,
   "metadata": {},
   "outputs": [
    {
     "data": {
      "text/html": [
       "<div>\n",
       "<style scoped>\n",
       "    .dataframe tbody tr th:only-of-type {\n",
       "        vertical-align: middle;\n",
       "    }\n",
       "\n",
       "    .dataframe tbody tr th {\n",
       "        vertical-align: top;\n",
       "    }\n",
       "\n",
       "    .dataframe thead th {\n",
       "        text-align: right;\n",
       "    }\n",
       "</style>\n",
       "<table border=\"1\" class=\"dataframe\">\n",
       "  <thead>\n",
       "    <tr style=\"text-align: right;\">\n",
       "      <th></th>\n",
       "      <th>mean_temp</th>\n",
       "      <th>mean_precip</th>\n",
       "      <th>mean_rel_humidity</th>\n",
       "      <th>mean_wind_dir</th>\n",
       "      <th>mean_wind_spd</th>\n",
       "      <th>target</th>\n",
       "    </tr>\n",
       "  </thead>\n",
       "  <tbody>\n",
       "    <tr>\n",
       "      <th>0</th>\n",
       "      <td>22.299527</td>\n",
       "      <td>0.000000</td>\n",
       "      <td>0.758530</td>\n",
       "      <td>209.574655</td>\n",
       "      <td>0.677348</td>\n",
       "      <td>45.126304</td>\n",
       "    </tr>\n",
       "    <tr>\n",
       "      <th>1</th>\n",
       "      <td>24.679063</td>\n",
       "      <td>0.007025</td>\n",
       "      <td>0.758058</td>\n",
       "      <td>177.109855</td>\n",
       "      <td>0.899208</td>\n",
       "      <td>79.131702</td>\n",
       "    </tr>\n",
       "    <tr>\n",
       "      <th>2</th>\n",
       "      <td>24.112317</td>\n",
       "      <td>0.151767</td>\n",
       "      <td>0.712944</td>\n",
       "      <td>201.373211</td>\n",
       "      <td>1.038656</td>\n",
       "      <td>32.661304</td>\n",
       "    </tr>\n",
       "    <tr>\n",
       "      <th>3</th>\n",
       "      <td>20.845273</td>\n",
       "      <td>1.127273</td>\n",
       "      <td>0.898326</td>\n",
       "      <td>259.973977</td>\n",
       "      <td>1.365202</td>\n",
       "      <td>53.850238</td>\n",
       "    </tr>\n",
       "    <tr>\n",
       "      <th>4</th>\n",
       "      <td>21.870732</td>\n",
       "      <td>0.005100</td>\n",
       "      <td>0.785134</td>\n",
       "      <td>181.944779</td>\n",
       "      <td>0.729763</td>\n",
       "      <td>177.418750</td>\n",
       "    </tr>\n",
       "  </tbody>\n",
       "</table>\n",
       "</div>"
      ],
      "text/plain": [
       "   mean_temp  mean_precip  mean_rel_humidity  mean_wind_dir  mean_wind_spd  \\\n",
       "0  22.299527     0.000000           0.758530     209.574655       0.677348   \n",
       "1  24.679063     0.007025           0.758058     177.109855       0.899208   \n",
       "2  24.112317     0.151767           0.712944     201.373211       1.038656   \n",
       "3  20.845273     1.127273           0.898326     259.973977       1.365202   \n",
       "4  21.870732     0.005100           0.785134     181.944779       0.729763   \n",
       "\n",
       "       target  \n",
       "0   45.126304  \n",
       "1   79.131702  \n",
       "2   32.661304  \n",
       "3   53.850238  \n",
       "4  177.418750  "
      ]
     },
     "execution_count": 134,
     "metadata": {},
     "output_type": "execute_result"
    }
   ],
   "source": [
    "df=pd.read_csv('data/train_modelling.csv')\n",
    "df.head()"
   ]
  },
  {
   "cell_type": "code",
   "execution_count": 135,
   "metadata": {},
   "outputs": [
    {
     "name": "stdout",
     "output_type": "stream",
     "text": [
      "<class 'pandas.core.frame.DataFrame'>\n",
      "RangeIndex: 15539 entries, 0 to 15538\n",
      "Data columns (total 6 columns):\n",
      " #   Column             Non-Null Count  Dtype  \n",
      "---  ------             --------------  -----  \n",
      " 0   mean_temp          15539 non-null  float64\n",
      " 1   mean_precip        15539 non-null  float64\n",
      " 2   mean_rel_humidity  15539 non-null  float64\n",
      " 3   mean_wind_dir      15539 non-null  float64\n",
      " 4   mean_wind_spd      15539 non-null  float64\n",
      " 5   target             15539 non-null  float64\n",
      "dtypes: float64(6)\n",
      "memory usage: 728.5 KB\n"
     ]
    }
   ],
   "source": [
    "df.info()"
   ]
  },
  {
   "cell_type": "code",
   "execution_count": 136,
   "metadata": {},
   "outputs": [
    {
     "name": "stdout",
     "output_type": "stream",
     "text": [
      "42.372336436960055\n"
     ]
    }
   ],
   "source": [
    "# perform and evaluate baseline model\n",
    "y_pred_baseline = np.ones(df.target.shape[0]) * np.mean(df.target)\n",
    "score = RMSE(df.target,y_pred_baseline)\n",
    "print(score)\n"
   ]
  },
  {
   "cell_type": "code",
   "execution_count": 137,
   "metadata": {},
   "outputs": [],
   "source": [
    "X,y=df.iloc[:,:-1],df.iloc[:,-1]"
   ]
  },
  {
   "cell_type": "code",
   "execution_count": 138,
   "metadata": {},
   "outputs": [],
   "source": [
    "X_train,X_test,y_train,y_test=train_test_split(X,y,test_size=0.25,random_state=RSEED)"
   ]
  },
  {
   "cell_type": "code",
   "execution_count": 139,
   "metadata": {},
   "outputs": [
    {
     "data": {
      "text/plain": [
       "<AxesSubplot:>"
      ]
     },
     "execution_count": 139,
     "metadata": {},
     "output_type": "execute_result"
    },
    {
     "data": {
      "image/png": "[encoded data removed]",
      "text/plain": [
       "<Figure size 432x288 with 1 Axes>"
      ]
     },
     "metadata": {
      "needs_background": "light"
     },
     "output_type": "display_data"
    }
   ],
   "source": [
    "#X_train.hist(bins=30)\n",
    "y_train.hist(bins=50)"
   ]
  },
  {
   "cell_type": "code",
   "execution_count": 140,
   "metadata": {},
   "outputs": [
    {
     "data": {
      "text/plain": [
       "<AxesSubplot:>"
      ]
     },
     "execution_count": 140,
     "metadata": {},
     "output_type": "execute_result"
    },
    {
     "data": {
      "image/png": "[encoded data removed]",
      "text/plain": [
       "<Figure size 432x288 with 1 Axes>"
      ]
     },
     "metadata": {
      "needs_background": "light"
     },
     "output_type": "display_data"
    }
   ],
   "source": [
    "y_test.hist(bins=50)"
   ]
  },
  {
   "cell_type": "code",
   "execution_count": 141,
   "metadata": {},
   "outputs": [
    {
     "data": {
      "text/plain": [
       "LinearRegression()"
      ]
     },
     "execution_count": 141,
     "metadata": {},
     "output_type": "execute_result"
    }
   ],
   "source": [
    "lr=LinearRegression()\n",
    "lr.fit(X_train,y_train)"
   ]
  },
  {
   "cell_type": "code",
   "execution_count": 142,
   "metadata": {},
   "outputs": [
    {
     "data": {
      "text/plain": [
       "array([ -7.55220727,  -8.86381762, -75.72039278,   0.11294901,\n",
       "        -4.90435158])"
      ]
     },
     "execution_count": 142,
     "metadata": {},
     "output_type": "execute_result"
    }
   ],
   "source": [
    "lr.coef_"
   ]
  },
  {
   "cell_type": "code",
   "execution_count": 143,
   "metadata": {},
   "outputs": [
    {
     "data": {
      "text/plain": [
       "274.5506999521161"
      ]
     },
     "execution_count": 143,
     "metadata": {},
     "output_type": "execute_result"
    }
   ],
   "source": [
    "lr.intercept_"
   ]
  },
  {
   "cell_type": "code",
   "execution_count": 144,
   "metadata": {},
   "outputs": [
    {
     "name": "stdout",
     "output_type": "stream",
     "text": [
      "train_pred: (11654,) test_pred: (3885,)\n"
     ]
    }
   ],
   "source": [
    "y_pred_train=lr.predict(X_train)\n",
    "y_pred_test=lr.predict(X_test)\n",
    "\n",
    "print(f'train_pred: {y_pred_train.shape} test_pred: {y_pred_test.shape}')\n"
   ]
  },
  {
   "cell_type": "code",
   "execution_count": 145,
   "metadata": {},
   "outputs": [
    {
     "name": "stdout",
     "output_type": "stream",
     "text": [
      "RMSE_train: 41.02 RMSE_test: 41.88\n"
     ]
    }
   ],
   "source": [
    "print(f'RMSE_train: {RMSE(y_pred_train,y_train).round(2)} RMSE_test: {RMSE(y_pred_test,y_test).round(2)}')"
   ]
  },
  {
   "cell_type": "code",
   "execution_count": 146,
   "metadata": {},
   "outputs": [
    {
     "name": "stdout",
     "output_type": "stream",
     "text": [
      "MAE: 27.959520712589953\n",
      "MSE: 1754.2365715521034\n",
      "RMSE: 41.88360743240849\n",
      "R_Squared: 0.055194283128565336\n"
     ]
    }
   ],
   "source": [
    "print(f'MAE: {metrics.mean_absolute_error(y_test,y_pred_test)}')\n",
    "print(f'MSE: {metrics.mean_squared_error(y_test,y_pred_test)}')\n",
    "print(f'RMSE: {np.sqrt(metrics.mean_squared_error(y_test,y_pred_test))}')\n",
    "print(f'R_Squared: {metrics.r2_score(y_test,y_pred_test)}')"
   ]
  },
  {
   "cell_type": "code",
   "execution_count": 147,
   "metadata": {},
   "outputs": [
    {
     "data": {
      "text/html": [
       "<table class=\"simpletable\">\n",
       "<caption>OLS Regression Results</caption>\n",
       "<tr>\n",
       "  <th>Dep. Variable:</th>         <td>target</td>      <th>  R-squared:         </th> <td>   0.053</td> \n",
       "</tr>\n",
       "<tr>\n",
       "  <th>Model:</th>                   <td>OLS</td>       <th>  Adj. R-squared:    </th> <td>   0.053</td> \n",
       "</tr>\n",
       "<tr>\n",
       "  <th>Method:</th>             <td>Least Squares</td>  <th>  F-statistic:       </th> <td>   174.6</td> \n",
       "</tr>\n",
       "<tr>\n",
       "  <th>Date:</th>             <td>Thu, 04 Nov 2021</td> <th>  Prob (F-statistic):</th> <td>2.29e-181</td>\n",
       "</tr>\n",
       "<tr>\n",
       "  <th>Time:</th>                 <td>16:53:10</td>     <th>  Log-Likelihood:    </th> <td> -79841.</td> \n",
       "</tr>\n",
       "<tr>\n",
       "  <th>No. Observations:</th>      <td> 15539</td>      <th>  AIC:               </th> <td>1.597e+05</td>\n",
       "</tr>\n",
       "<tr>\n",
       "  <th>Df Residuals:</th>          <td> 15533</td>      <th>  BIC:               </th> <td>1.597e+05</td>\n",
       "</tr>\n",
       "<tr>\n",
       "  <th>Df Model:</th>              <td>     5</td>      <th>                     </th>     <td> </td>    \n",
       "</tr>\n",
       "<tr>\n",
       "  <th>Covariance Type:</th>      <td>nonrobust</td>    <th>                     </th>     <td> </td>    \n",
       "</tr>\n",
       "</table>\n",
       "<table class=\"simpletable\">\n",
       "<tr>\n",
       "          <td></td>             <th>coef</th>     <th>std err</th>      <th>t</th>      <th>P>|t|</th>  <th>[0.025</th>    <th>0.975]</th>  \n",
       "</tr>\n",
       "<tr>\n",
       "  <th>Intercept</th>         <td>  283.8865</td> <td>   18.913</td> <td>   15.010</td> <td> 0.000</td> <td>  246.815</td> <td>  320.958</td>\n",
       "</tr>\n",
       "<tr>\n",
       "  <th>mean_temp</th>         <td>   -7.8431</td> <td>    0.493</td> <td>  -15.922</td> <td> 0.000</td> <td>   -8.809</td> <td>   -6.878</td>\n",
       "</tr>\n",
       "<tr>\n",
       "  <th>mean_precip</th>       <td>  -11.4714</td> <td>    1.889</td> <td>   -6.073</td> <td> 0.000</td> <td>  -15.174</td> <td>   -7.769</td>\n",
       "</tr>\n",
       "<tr>\n",
       "  <th>mean_rel_humidity</th> <td>  -74.5698</td> <td>    9.483</td> <td>   -7.864</td> <td> 0.000</td> <td>  -93.157</td> <td>  -55.982</td>\n",
       "</tr>\n",
       "<tr>\n",
       "  <th>mean_wind_dir</th>     <td>    0.1003</td> <td>    0.013</td> <td>    7.733</td> <td> 0.000</td> <td>    0.075</td> <td>    0.126</td>\n",
       "</tr>\n",
       "<tr>\n",
       "  <th>mean_wind_spd</th>     <td>   -5.3621</td> <td>    0.678</td> <td>   -7.904</td> <td> 0.000</td> <td>   -6.692</td> <td>   -4.032</td>\n",
       "</tr>\n",
       "</table>\n",
       "<table class=\"simpletable\">\n",
       "<tr>\n",
       "  <th>Omnibus:</th>       <td>8738.363</td> <th>  Durbin-Watson:     </th> <td>   1.993</td> \n",
       "</tr>\n",
       "<tr>\n",
       "  <th>Prob(Omnibus):</th>  <td> 0.000</td>  <th>  Jarque-Bera (JB):  </th> <td>85531.056</td>\n",
       "</tr>\n",
       "<tr>\n",
       "  <th>Skew:</th>           <td> 2.561</td>  <th>  Prob(JB):          </th> <td>    0.00</td> \n",
       "</tr>\n",
       "<tr>\n",
       "  <th>Kurtosis:</th>       <td>13.290</td>  <th>  Cond. No.          </th> <td>1.27e+04</td> \n",
       "</tr>\n",
       "</table><br/><br/>Notes:<br/>[1] Standard Errors assume that the covariance matrix of the errors is correctly specified.<br/>[2] The condition number is large, 1.27e+04. This might indicate that there are<br/>strong multicollinearity or other numerical problems."
      ],
      "text/plain": [
       "<class 'statsmodels.iolib.summary.Summary'>\n",
       "\"\"\"\n",
       "                            OLS Regression Results                            \n",
       "==============================================================================\n",
       "Dep. Variable:                 target   R-squared:                       0.053\n",
       "Model:                            OLS   Adj. R-squared:                  0.053\n",
       "Method:                 Least Squares   F-statistic:                     174.6\n",
       "Date:                Thu, 04 Nov 2021   Prob (F-statistic):          2.29e-181\n",
       "Time:                        16:53:10   Log-Likelihood:                -79841.\n",
       "No. Observations:               15539   AIC:                         1.597e+05\n",
       "Df Residuals:                   15533   BIC:                         1.597e+05\n",
       "Df Model:                           5                                         \n",
       "Covariance Type:            nonrobust                                         \n",
       "=====================================================================================\n",
       "                        coef    std err          t      P>|t|      [0.025      0.975]\n",
       "-------------------------------------------------------------------------------------\n",
       "Intercept           283.8865     18.913     15.010      0.000     246.815     320.958\n",
       "mean_temp            -7.8431      0.493    -15.922      0.000      -8.809      -6.878\n",
       "mean_precip         -11.4714      1.889     -6.073      0.000     -15.174      -7.769\n",
       "mean_rel_humidity   -74.5698      9.483     -7.864      0.000     -93.157     -55.982\n",
       "mean_wind_dir         0.1003      0.013      7.733      0.000       0.075       0.126\n",
       "mean_wind_spd        -5.3621      0.678     -7.904      0.000      -6.692      -4.032\n",
       "==============================================================================\n",
       "Omnibus:                     8738.363   Durbin-Watson:                   1.993\n",
       "Prob(Omnibus):                  0.000   Jarque-Bera (JB):            85531.056\n",
       "Skew:                           2.561   Prob(JB):                         0.00\n",
       "Kurtosis:                      13.290   Cond. No.                     1.27e+04\n",
       "==============================================================================\n",
       "\n",
       "Notes:\n",
       "[1] Standard Errors assume that the covariance matrix of the errors is correctly specified.\n",
       "[2] The condition number is large, 1.27e+04. This might indicate that there are\n",
       "strong multicollinearity or other numerical problems.\n",
       "\"\"\""
      ]
     },
     "execution_count": 147,
     "metadata": {},
     "output_type": "execute_result"
    }
   ],
   "source": [
    "import statsmodels.formula.api as smf\n",
    "model=smf.ols(formula='target~ mean_temp + mean_precip + mean_rel_humidity +mean_wind_dir+mean_wind_spd',\n",
    "data=df).fit()\n",
    "model.summary()"
   ]
  },
  {
   "cell_type": "markdown",
   "metadata": {},
   "source": [
    "# Decision Tree"
   ]
  },
  {
   "cell_type": "code",
   "execution_count": 148,
   "metadata": {},
   "outputs": [
    {
     "data": {
      "text/plain": [
       "DecisionTreeRegressor()"
      ]
     },
     "execution_count": 148,
     "metadata": {},
     "output_type": "execute_result"
    }
   ],
   "source": [
    "from sklearn.tree import DecisionTreeRegressor\n",
    "\n",
    "tree=DecisionTreeRegressor()\n",
    "tree.fit(X_train,y_train)"
   ]
  },
  {
   "cell_type": "code",
   "execution_count": 169,
   "metadata": {},
   "outputs": [
    {
     "data": {
      "text/plain": [
       "array([ 27.39882353,  69.7787234 ,  81.08177778, ...,  62.28975738,\n",
       "       125.49409091,  34.9275    ])"
      ]
     },
     "execution_count": 169,
     "metadata": {},
     "output_type": "execute_result"
    }
   ],
   "source": [
    "y_pred=tree.predict(X_test)\n",
    "y_pred"
   ]
  },
  {
   "cell_type": "code",
   "execution_count": 170,
   "metadata": {},
   "outputs": [
    {
     "data": {
      "text/plain": [
       "0.2457808390911742"
      ]
     },
     "execution_count": 170,
     "metadata": {},
     "output_type": "execute_result"
    }
   ],
   "source": [
    "tree.score(X_test,y_test)"
   ]
  },
  {
   "cell_type": "code",
   "execution_count": 172,
   "metadata": {},
   "outputs": [
    {
     "name": "stdout",
     "output_type": "stream",
     "text": [
      "MAE: 21.58079846834589\n",
      "MSE: 1400.371326512244\n",
      "RMSE: 37.421535597998165\n",
      "R_Squared: 0.2457808390911742\n"
     ]
    }
   ],
   "source": [
    "print(f'MAE: {metrics.mean_absolute_error(y_test,y_pred)}')\n",
    "print(f'MSE: {metrics.mean_squared_error(y_test,y_pred)}')\n",
    "print(f'RMSE: {np.sqrt(metrics.mean_squared_error(y_test,y_pred))}')\n",
    "print(f'R_Squared: {metrics.r2_score(y_test,y_pred)}')"
   ]
  },
  {
   "cell_type": "markdown",
   "metadata": {},
   "source": [
    "# Scaling"
   ]
  },
  {
   "cell_type": "code",
   "execution_count": 151,
   "metadata": {},
   "outputs": [],
   "source": [
    "scaler=StandardScaler()\n",
    "X_train_scaled=scaler.fit_transform(X_train)\n",
    "X_test_scaled=scaler.transform(X_test)"
   ]
  },
  {
   "cell_type": "code",
   "execution_count": 152,
   "metadata": {},
   "outputs": [
    {
     "data": {
      "text/plain": [
       "LinearRegression()"
      ]
     },
     "execution_count": 152,
     "metadata": {},
     "output_type": "execute_result"
    }
   ],
   "source": [
    "lr.fit(X_train_scaled,y_train)"
   ]
  },
  {
   "cell_type": "code",
   "execution_count": 153,
   "metadata": {},
   "outputs": [
    {
     "name": "stderr",
     "output_type": "stream",
     "text": [
      "/Users/paulosgidyelew/Desktop/GitHub/Git_Neuefische/Project2_AirQuality/.venv/lib/python3.9/site-packages/sklearn/base.py:441: UserWarning: X does not have valid feature names, but LinearRegression was fitted with feature names\n",
      "  warnings.warn(\n"
     ]
    }
   ],
   "source": [
    "y_pred_scaled=lr.predict(X_test_scaled)"
   ]
  },
  {
   "cell_type": "code",
   "execution_count": 154,
   "metadata": {},
   "outputs": [
    {
     "name": "stdout",
     "output_type": "stream",
     "text": [
      "MAE: 27.959520712589953\n",
      "MSE: 1754.2365715521034\n",
      "RMSE: 41.88360743240849\n",
      "R_Squared: 0.055194283128565336\n"
     ]
    }
   ],
   "source": [
    "print(f'MAE: {metrics.mean_absolute_error(y_test,y_pred_scaled)}')\n",
    "print(f'MSE: {metrics.mean_squared_error(y_test,y_pred_scaled)}')\n",
    "print(f'RMSE: {np.sqrt(metrics.mean_squared_error(y_test,y_pred_scaled))}')\n",
    "print(f'R_Squared: {metrics.r2_score(y_test,y_pred_scaled)}')"
   ]
  },
  {
   "cell_type": "markdown",
   "metadata": {},
   "source": [
    "# Random Forest"
   ]
  },
  {
   "cell_type": "code",
   "execution_count": 166,
   "metadata": {},
   "outputs": [
    {
     "name": "stdout",
     "output_type": "stream",
     "text": [
      "tree size:20 RMSE: 28.910857442326588 R2: 0.5498302626880153\n",
      "tree size:30 RMSE: 28.82751935910138 R2: 0.5524218296188502\n",
      "tree size:40 RMSE: 28.74504657464467 R2: 0.5549791232383012\n",
      "tree size:50 RMSE: 28.685093987643295 R2: 0.5568335178595694\n",
      "tree size:60 RMSE: 28.610210529345423 R2: 0.5591443014597421\n",
      "tree size:70 RMSE: 28.63607929256849 R2: 0.5583467157532381\n",
      "tree size:80 RMSE: 28.574434021211086 R2: 0.5602461749329641\n",
      "tree size:90 RMSE: 28.524263208834704 R2: 0.5617890532810688\n"
     ]
    }
   ],
   "source": [
    "from sklearn.ensemble import RandomForestRegressor\n",
    "for i in range(20,100,10):\n",
    "    forest = RandomForestRegressor(n_estimators=i,\n",
    "                                    criterion='squared_error',\n",
    "                                    max_depth=None,\n",
    "                                    min_samples_split=2,\n",
    "                                    min_samples_leaf=1,\n",
    "                                    min_weight_fraction_leaf=0.0,\n",
    "                                    max_features='auto',\n",
    "                                    max_leaf_nodes=None,\n",
    "                                    min_impurity_decrease=0.0,\n",
    "                                    bootstrap=True,\n",
    "                                    oob_score=False,\n",
    "                                    n_jobs=None,\n",
    "                                    random_state=RSEED,\n",
    "                                    verbose=0,\n",
    "                                    warm_start=False,\n",
    "                                    ccp_alpha=0.0,\n",
    "                                    max_samples=None)\n",
    "    forest.fit(X_train,y_train)\n",
    "    y_pred_forest=forest.predict(X_test)\n",
    "    print(f'tree size:{i} RMSE: {np.sqrt(metrics.mean_squared_error(y_test,y_pred_forest))} R2: {forest.score(X_test,y_test)}')\n",
    "  "
   ]
  },
  {
   "cell_type": "code",
   "execution_count": 168,
   "metadata": {},
   "outputs": [
    {
     "name": "stdout",
     "output_type": "stream",
     "text": [
      "MAE: 17.32574214572186\n",
      "MSE: 813.633591606881\n",
      "RMSE: 28.524263208834704\n",
      "R_Squared: 0.5617890532810688\n"
     ]
    }
   ],
   "source": [
    "print(f'MAE: {metrics.mean_absolute_error(y_test,y_pred_forest)}')\n",
    "print(f'MSE: {metrics.mean_squared_error(y_test,y_pred_forest)}')\n",
    "print(f'RMSE: {np.sqrt(metrics.mean_squared_error(y_test,y_pred_forest))}')\n",
    "print(f'R_Squared: {metrics.r2_score(y_test,y_pred_forest)}')"
   ]
  },
  {
   "cell_type": "code",
   "execution_count": null,
   "metadata": {},
   "outputs": [],
   "source": []
  }
 ],
 "metadata": {
  "interpreter": {
   "hash": "7848e853c74280859d25e41004c6de3cb9ace43daf885351410ab851970ad5c1"
  },
  "kernelspec": {
   "display_name": "Python 3.9.4 64-bit ('.venv': venv)",
   "name": "python3"
  },
  "language_info": {
   "codemirror_mode": {
    "name": "ipython",
    "version": 3
   },
   "file_extension": ".py",
   "mimetype": "text/x-python",
   "name": "python",
   "nbconvert_exporter": "python",
   "pygments_lexer": "ipython3",
   "version": "3.9.4"
  },
  "orig_nbformat": 4
 },
 "nbformat": 4,
 "nbformat_minor": 2
}
