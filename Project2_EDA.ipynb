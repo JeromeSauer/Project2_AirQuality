{
 "cells": [
  {
   "cell_type": "code",
   "execution_count": 365,
   "metadata": {},
   "outputs": [],
   "source": [
    "## load modules\n",
    "import pandas as pd \n",
    "import numpy as np\n",
    "import seaborn as sns\n",
    "import matplotlib.pyplot as plt\n",
    "import math\n",
    "#from sklearn.metrics import mean_squared_error"
   ]
  },
  {
   "cell_type": "code",
   "execution_count": 366,
   "metadata": {},
   "outputs": [],
   "source": [
    "## helper functions\n",
    "\n",
    "# covert feature data: from string to list of values for all observation sets \n",
    "def replace_nan(x):\n",
    "    if x==\" \":\n",
    "        return np.nan\n",
    "    else :\n",
    "        return float(x)\n",
    "\n",
    "# calculate statistics in different features (e.g. mean over five days)\n",
    "def aggregate_features(x,col_name):\n",
    "    x[\"mean_\"+col_name]=x[col_name].apply(np.mean)\n",
    "    #x[\"max_\"+col_name]=x[col_name].apply(np.max)\n",
    "    #x[\"min_\"+col_name]=x[col_name].apply(np.min)\n",
    "    # x[\"std_\"+col_name]=x[col_name].apply(np.std)\n",
    "    # x[\"var_\"+col_name]=x[col_name].apply(np.var)\n",
    "    # x[\"median_\"+col_name]=x[col_name].apply(np.median)\n",
    "    # x[\"ptp_\"+col_name]=x[col_name].apply(np.ptp)\n",
    "    return x  \n",
    "\n",
    "# remove np.nan values\n",
    "def remove_nan_values(x):\n",
    "    return [e for e in x if not math.isnan(e)]\n",
    "\n",
    "# define root mean square error\n",
    "def RMSE(x,y):\n",
    "    return np.sqrt(np.mean((x-y)**2))    \n"
   ]
  },
  {
   "cell_type": "code",
   "execution_count": 367,
   "metadata": {},
   "outputs": [
    {
     "data": {
      "text/html": [
       "<div>\n",
       "<style scoped>\n",
       "    .dataframe tbody tr th:only-of-type {\n",
       "        vertical-align: middle;\n",
       "    }\n",
       "\n",
       "    .dataframe tbody tr th {\n",
       "        vertical-align: top;\n",
       "    }\n",
       "\n",
       "    .dataframe thead th {\n",
       "        text-align: right;\n",
       "    }\n",
       "</style>\n",
       "<table border=\"1\" class=\"dataframe\">\n",
       "  <thead>\n",
       "    <tr style=\"text-align: right;\">\n",
       "      <th></th>\n",
       "      <th>index</th>\n",
       "      <th>location</th>\n",
       "      <th>loc_altitude</th>\n",
       "      <th>km2</th>\n",
       "      <th>aspect</th>\n",
       "      <th>dist_motorway</th>\n",
       "      <th>dist_trunk</th>\n",
       "      <th>dist_primary</th>\n",
       "      <th>dist_secondary</th>\n",
       "      <th>dist_tertiary</th>\n",
       "      <th>dist_unclassified</th>\n",
       "      <th>dist_residential</th>\n",
       "      <th>popn</th>\n",
       "      <th>hh</th>\n",
       "      <th>hh_cook_charcoal</th>\n",
       "      <th>hh_cook_firewood</th>\n",
       "      <th>hh_burn_waste</th>\n",
       "    </tr>\n",
       "  </thead>\n",
       "  <tbody>\n",
       "    <tr>\n",
       "      <th>0</th>\n",
       "      <td>0</td>\n",
       "      <td>A</td>\n",
       "      <td>1122.4</td>\n",
       "      <td>1.9</td>\n",
       "      <td>194.0</td>\n",
       "      <td>NaN</td>\n",
       "      <td>NaN</td>\n",
       "      <td>14.695789</td>\n",
       "      <td>343.595039</td>\n",
       "      <td>575.917422</td>\n",
       "      <td>330.609776</td>\n",
       "      <td>254.307415</td>\n",
       "      <td>4763</td>\n",
       "      <td>809</td>\n",
       "      <td>508</td>\n",
       "      <td>43</td>\n",
       "      <td>142</td>\n",
       "    </tr>\n",
       "    <tr>\n",
       "      <th>1</th>\n",
       "      <td>1</td>\n",
       "      <td>B</td>\n",
       "      <td>1155.4</td>\n",
       "      <td>5.4</td>\n",
       "      <td>219.8</td>\n",
       "      <td>NaN</td>\n",
       "      <td>528.078476</td>\n",
       "      <td>2172.680462</td>\n",
       "      <td>1144.376412</td>\n",
       "      <td>531.103271</td>\n",
       "      <td>65.142004</td>\n",
       "      <td>1.042809</td>\n",
       "      <td>22243</td>\n",
       "      <td>5735</td>\n",
       "      <td>116</td>\n",
       "      <td>1144</td>\n",
       "      <td>239</td>\n",
       "    </tr>\n",
       "    <tr>\n",
       "      <th>2</th>\n",
       "      <td>2</td>\n",
       "      <td>C</td>\n",
       "      <td>1178.3</td>\n",
       "      <td>8.5</td>\n",
       "      <td>168.7</td>\n",
       "      <td>NaN</td>\n",
       "      <td>32.885520</td>\n",
       "      <td>4794.704552</td>\n",
       "      <td>12.730489</td>\n",
       "      <td>72.459340</td>\n",
       "      <td>406.967815</td>\n",
       "      <td>13.931350</td>\n",
       "      <td>97895</td>\n",
       "      <td>26873</td>\n",
       "      <td>21316</td>\n",
       "      <td>751</td>\n",
       "      <td>9835</td>\n",
       "    </tr>\n",
       "    <tr>\n",
       "      <th>3</th>\n",
       "      <td>3</td>\n",
       "      <td>D</td>\n",
       "      <td>980.8</td>\n",
       "      <td>0.8</td>\n",
       "      <td>90.0</td>\n",
       "      <td>NaN</td>\n",
       "      <td>NaN</td>\n",
       "      <td>265.896472</td>\n",
       "      <td>NaN</td>\n",
       "      <td>339.693908</td>\n",
       "      <td>76.024389</td>\n",
       "      <td>11.601442</td>\n",
       "      <td>3596</td>\n",
       "      <td>663</td>\n",
       "      <td>7</td>\n",
       "      <td>651</td>\n",
       "      <td>99</td>\n",
       "    </tr>\n",
       "    <tr>\n",
       "      <th>4</th>\n",
       "      <td>4</td>\n",
       "      <td>E</td>\n",
       "      <td>1186.5</td>\n",
       "      <td>1.6</td>\n",
       "      <td>121.0</td>\n",
       "      <td>NaN</td>\n",
       "      <td>850.423131</td>\n",
       "      <td>NaN</td>\n",
       "      <td>1738.872942</td>\n",
       "      <td>137.722087</td>\n",
       "      <td>449.591885</td>\n",
       "      <td>3.836589</td>\n",
       "      <td>6064</td>\n",
       "      <td>1297</td>\n",
       "      <td>985</td>\n",
       "      <td>26</td>\n",
       "      <td>43</td>\n",
       "    </tr>\n",
       "  </tbody>\n",
       "</table>\n",
       "</div>"
      ],
      "text/plain": [
       "   index location  loc_altitude  km2  aspect  dist_motorway  dist_trunk  \\\n",
       "0      0        A        1122.4  1.9   194.0            NaN         NaN   \n",
       "1      1        B        1155.4  5.4   219.8            NaN  528.078476   \n",
       "2      2        C        1178.3  8.5   168.7            NaN   32.885520   \n",
       "3      3        D         980.8  0.8    90.0            NaN         NaN   \n",
       "4      4        E        1186.5  1.6   121.0            NaN  850.423131   \n",
       "\n",
       "   dist_primary  dist_secondary  dist_tertiary  dist_unclassified  \\\n",
       "0     14.695789      343.595039     575.917422         330.609776   \n",
       "1   2172.680462     1144.376412     531.103271          65.142004   \n",
       "2   4794.704552       12.730489      72.459340         406.967815   \n",
       "3    265.896472             NaN     339.693908          76.024389   \n",
       "4           NaN     1738.872942     137.722087         449.591885   \n",
       "\n",
       "   dist_residential   popn     hh  hh_cook_charcoal  hh_cook_firewood  \\\n",
       "0        254.307415   4763    809               508                43   \n",
       "1          1.042809  22243   5735               116              1144   \n",
       "2         13.931350  97895  26873             21316               751   \n",
       "3         11.601442   3596    663                 7               651   \n",
       "4          3.836589   6064   1297               985                26   \n",
       "\n",
       "   hh_burn_waste  \n",
       "0            142  \n",
       "1            239  \n",
       "2           9835  \n",
       "3             99  \n",
       "4             43  "
      ]
     },
     "execution_count": 367,
     "metadata": {},
     "output_type": "execute_result"
    }
   ],
   "source": [
    "# read meta data\n",
    "meta_data = pd.read_csv('data/airqo_metadata.csv')\n",
    "meta_data.rename(columns={'Unnamed: 0':'index'},inplace=True)\n",
    "meta_data.head()"
   ]
  },
  {
   "cell_type": "code",
   "execution_count": 368,
   "metadata": {},
   "outputs": [
    {
     "name": "stdout",
     "output_type": "stream",
     "text": [
      "<class 'pandas.core.frame.DataFrame'>\n",
      "RangeIndex: 15539 entries, 0 to 15538\n",
      "Data columns (total 9 columns):\n",
      " #   Column        Non-Null Count  Dtype  \n",
      "---  ------        --------------  -----  \n",
      " 0   ID            15539 non-null  object \n",
      " 1   location      15539 non-null  object \n",
      " 2   temp          15539 non-null  object \n",
      " 3   precip        15539 non-null  object \n",
      " 4   rel_humidity  15539 non-null  object \n",
      " 5   wind_dir      15539 non-null  object \n",
      " 6   wind_spd      15539 non-null  object \n",
      " 7   atmos_press   15539 non-null  object \n",
      " 8   target        15539 non-null  float64\n",
      "dtypes: float64(1), object(8)\n",
      "memory usage: 1.1+ MB\n"
     ]
    }
   ],
   "source": [
    "# read train data\n",
    "train_data = pd.read_csv('data/train.csv')\n",
    "train_data.head()\n",
    "train_data.info()"
   ]
  },
  {
   "cell_type": "code",
   "execution_count": 369,
   "metadata": {},
   "outputs": [],
   "source": [
    "# convert big string to a list of floats in every observation set\n",
    "features=[\"temp\",\"precip\",\"rel_humidity\",\"wind_dir\",\"wind_spd\",\"atmos_press\"]\n",
    "for feature in features : \n",
    "    train_data[feature] = train_data[feature].apply(lambda x: [ replace_nan(X) for X in x.replace(\"nan\",\" \").split(\",\")])  "
   ]
  },
  {
   "cell_type": "code",
   "execution_count": 370,
   "metadata": {},
   "outputs": [
    {
     "data": {
      "text/html": [
       "<div>\n",
       "<style scoped>\n",
       "    .dataframe tbody tr th:only-of-type {\n",
       "        vertical-align: middle;\n",
       "    }\n",
       "\n",
       "    .dataframe tbody tr th {\n",
       "        vertical-align: top;\n",
       "    }\n",
       "\n",
       "    .dataframe thead th {\n",
       "        text-align: right;\n",
       "    }\n",
       "</style>\n",
       "<table border=\"1\" class=\"dataframe\">\n",
       "  <thead>\n",
       "    <tr style=\"text-align: right;\">\n",
       "      <th></th>\n",
       "      <th>ID</th>\n",
       "      <th>location</th>\n",
       "      <th>temp</th>\n",
       "      <th>precip</th>\n",
       "      <th>rel_humidity</th>\n",
       "      <th>wind_dir</th>\n",
       "      <th>wind_spd</th>\n",
       "      <th>atmos_press</th>\n",
       "      <th>target</th>\n",
       "    </tr>\n",
       "  </thead>\n",
       "  <tbody>\n",
       "    <tr>\n",
       "      <th>0</th>\n",
       "      <td>ID_train_0</td>\n",
       "      <td>C</td>\n",
       "      <td>[nan, nan, nan, nan, nan, nan, nan, nan, nan, ...</td>\n",
       "      <td>[nan, nan, nan, nan, nan, nan, nan, nan, nan, ...</td>\n",
       "      <td>[nan, nan, nan, nan, nan, nan, nan, nan, nan, ...</td>\n",
       "      <td>[nan, nan, nan, nan, nan, nan, nan, nan, nan, ...</td>\n",
       "      <td>[nan, nan, nan, nan, nan, nan, nan, nan, nan, ...</td>\n",
       "      <td>[nan, nan, nan, nan, nan, nan, nan, nan, nan, ...</td>\n",
       "      <td>45.126304</td>\n",
       "    </tr>\n",
       "    <tr>\n",
       "      <th>1</th>\n",
       "      <td>ID_train_1</td>\n",
       "      <td>D</td>\n",
       "      <td>[22.53333333, 21.71666667, 20.83333333, 20.983...</td>\n",
       "      <td>[0.102, 0.0, 0.0, 0.0, 0.0, 0.0, 0.0, 0.034, 0...</td>\n",
       "      <td>[0.744583333, 0.808083333, 0.911166667, 0.9163...</td>\n",
       "      <td>[281.6643101, 89.15629262, 81.96853891, 291.01...</td>\n",
       "      <td>[2.3775, 1.126666667, 0.700833333, 0.341666667...</td>\n",
       "      <td>[90.32, 90.3775, 90.44083333, 90.4725, 90.4541...</td>\n",
       "      <td>79.131702</td>\n",
       "    </tr>\n",
       "    <tr>\n",
       "      <th>2</th>\n",
       "      <td>ID_train_10</td>\n",
       "      <td>A</td>\n",
       "      <td>[28.975, 27.95, 29.6, 26.425, 22.09166667, 21....</td>\n",
       "      <td>[0.0, 0.0, 0.0, 0.102, 0.136, 0.0, 0.0, 2.16, ...</td>\n",
       "      <td>[0.573333333, 0.597166667, 0.5668333329999999,...</td>\n",
       "      <td>[nan, nan, nan, nan, nan, nan, nan, nan, nan, ...</td>\n",
       "      <td>[nan, nan, nan, nan, nan, nan, nan, nan, nan, ...</td>\n",
       "      <td>[88.55166667, 88.46416667, 88.31916667, 88.24,...</td>\n",
       "      <td>32.661304</td>\n",
       "    </tr>\n",
       "    <tr>\n",
       "      <th>3</th>\n",
       "      <td>ID_train_100</td>\n",
       "      <td>A</td>\n",
       "      <td>[22.96666667, 24.26666667, 25.275, 25.625, 25....</td>\n",
       "      <td>[0.0, 0.0, 0.0, 0.0, 0.0, 0.0, 0.0, 0.0, 7.77,...</td>\n",
       "      <td>[0.8430833329999999, 0.79025, 0.7375, 0.728, 0...</td>\n",
       "      <td>[300.0850574, 293.6769595, 294.5174647, 301.92...</td>\n",
       "      <td>[1.446666667, 1.1925, 1.324166667, 1.544166666...</td>\n",
       "      <td>[88.615, 88.53083333, 88.4, 88.27166667, 88.20...</td>\n",
       "      <td>53.850238</td>\n",
       "    </tr>\n",
       "    <tr>\n",
       "      <th>4</th>\n",
       "      <td>ID_train_1000</td>\n",
       "      <td>A</td>\n",
       "      <td>[21.875, 21.575, 21.525, 21.43333333, 20.50833...</td>\n",
       "      <td>[0.0, 0.0, 0.0, 0.0, 0.0, 0.0, 0.0, 0.0, 0.0, ...</td>\n",
       "      <td>[0.8564166670000001, 0.874916667, 0.879833333,...</td>\n",
       "      <td>[21.83997432, 17.05405341, 89.26406044, 123.58...</td>\n",
       "      <td>[0.1975, 0.244166667, 0.411666667, 0.56, 0.577...</td>\n",
       "      <td>[88.55666667, 88.64083333, 88.65833333, 88.647...</td>\n",
       "      <td>177.418750</td>\n",
       "    </tr>\n",
       "  </tbody>\n",
       "</table>\n",
       "</div>"
      ],
      "text/plain": [
       "              ID location                                               temp  \\\n",
       "0     ID_train_0        C  [nan, nan, nan, nan, nan, nan, nan, nan, nan, ...   \n",
       "1     ID_train_1        D  [22.53333333, 21.71666667, 20.83333333, 20.983...   \n",
       "2    ID_train_10        A  [28.975, 27.95, 29.6, 26.425, 22.09166667, 21....   \n",
       "3   ID_train_100        A  [22.96666667, 24.26666667, 25.275, 25.625, 25....   \n",
       "4  ID_train_1000        A  [21.875, 21.575, 21.525, 21.43333333, 20.50833...   \n",
       "\n",
       "                                              precip  \\\n",
       "0  [nan, nan, nan, nan, nan, nan, nan, nan, nan, ...   \n",
       "1  [0.102, 0.0, 0.0, 0.0, 0.0, 0.0, 0.0, 0.034, 0...   \n",
       "2  [0.0, 0.0, 0.0, 0.102, 0.136, 0.0, 0.0, 2.16, ...   \n",
       "3  [0.0, 0.0, 0.0, 0.0, 0.0, 0.0, 0.0, 0.0, 7.77,...   \n",
       "4  [0.0, 0.0, 0.0, 0.0, 0.0, 0.0, 0.0, 0.0, 0.0, ...   \n",
       "\n",
       "                                        rel_humidity  \\\n",
       "0  [nan, nan, nan, nan, nan, nan, nan, nan, nan, ...   \n",
       "1  [0.744583333, 0.808083333, 0.911166667, 0.9163...   \n",
       "2  [0.573333333, 0.597166667, 0.5668333329999999,...   \n",
       "3  [0.8430833329999999, 0.79025, 0.7375, 0.728, 0...   \n",
       "4  [0.8564166670000001, 0.874916667, 0.879833333,...   \n",
       "\n",
       "                                            wind_dir  \\\n",
       "0  [nan, nan, nan, nan, nan, nan, nan, nan, nan, ...   \n",
       "1  [281.6643101, 89.15629262, 81.96853891, 291.01...   \n",
       "2  [nan, nan, nan, nan, nan, nan, nan, nan, nan, ...   \n",
       "3  [300.0850574, 293.6769595, 294.5174647, 301.92...   \n",
       "4  [21.83997432, 17.05405341, 89.26406044, 123.58...   \n",
       "\n",
       "                                            wind_spd  \\\n",
       "0  [nan, nan, nan, nan, nan, nan, nan, nan, nan, ...   \n",
       "1  [2.3775, 1.126666667, 0.700833333, 0.341666667...   \n",
       "2  [nan, nan, nan, nan, nan, nan, nan, nan, nan, ...   \n",
       "3  [1.446666667, 1.1925, 1.324166667, 1.544166666...   \n",
       "4  [0.1975, 0.244166667, 0.411666667, 0.56, 0.577...   \n",
       "\n",
       "                                         atmos_press      target  \n",
       "0  [nan, nan, nan, nan, nan, nan, nan, nan, nan, ...   45.126304  \n",
       "1  [90.32, 90.3775, 90.44083333, 90.4725, 90.4541...   79.131702  \n",
       "2  [88.55166667, 88.46416667, 88.31916667, 88.24,...   32.661304  \n",
       "3  [88.615, 88.53083333, 88.4, 88.27166667, 88.20...   53.850238  \n",
       "4  [88.55666667, 88.64083333, 88.65833333, 88.647...  177.418750  "
      ]
     },
     "execution_count": 370,
     "metadata": {},
     "output_type": "execute_result"
    }
   ],
   "source": [
    "train_data.head()"
   ]
  },
  {
   "cell_type": "code",
   "execution_count": 371,
   "metadata": {},
   "outputs": [
    {
     "name": "stdout",
     "output_type": "stream",
     "text": [
      "site C: 1753 observations\n",
      "site D: 4990 observations\n",
      "site A: 5122 observations\n",
      "site E: 2907 observations\n",
      "site B: 767 observations\n"
     ]
    },
    {
     "data": {
      "text/plain": [
       "Text(0.5, 0, 'target [µg/m^3]')"
      ]
     },
     "execution_count": 371,
     "metadata": {},
     "output_type": "execute_result"
    },
    {
     "data": {
      "image/png": "[encoded data removed]",
      "text/plain": [
       "<Figure size 1152x792 with 6 Axes>"
      ]
     },
     "metadata": {
      "needs_background": "light"
     },
     "output_type": "display_data"
    }
   ],
   "source": [
    "# look at histograms of target variable for the five different stations and aggregated over all five stations\n",
    "# also print the respective number of observations\n",
    "fig,ax = plt.subplots(nrows=2,ncols=3,squeeze=False,figsize=(16,11))\n",
    "ax = np.reshape(ax,2*3)\n",
    "bins = np.arange(0,501,25)\n",
    "\n",
    "for i,site in enumerate(train_data['location'].unique()):\n",
    "    print(f\"site {site}: {len(train_data[train_data['location']==site])} observations\")\n",
    "    sns.histplot(x='target',data=train_data[train_data['location']==site],ax=ax[i],bins=bins)\n",
    "    ax[i].set_title(site)\n",
    "    ax[i].grid()\n",
    "    ax[i].set_ylim([0,2400])\n",
    "    ax[i].set_xlabel('target [µg/m^3]')\n",
    "sns.histplot(x='target',data=train_data,ax=ax[-1],bins=np.arange(0,501,2.5))    \n",
    "ax[-1].set_title('all sites together') \n",
    "ax[-1].grid() \n",
    "ax[-1].set_xlabel('target [µg/m^3]') "
   ]
  },
  {
   "cell_type": "code",
   "execution_count": 372,
   "metadata": {},
   "outputs": [
    {
     "data": {
      "text/plain": [
       "Text(0.5, 1.0, 'data of all sites')"
      ]
     },
     "execution_count": 372,
     "metadata": {},
     "output_type": "execute_result"
    },
    {
     "data": {
      "image/png": "[encoded data removed]",
      "text/plain": [
       "<Figure size 432x288 with 1 Axes>"
      ]
     },
     "metadata": {
      "needs_background": "light"
     },
     "output_type": "display_data"
    }
   ],
   "source": [
    "# distribution of aggregated target variable in boxplot\n",
    "fig,ax = plt.subplots() \n",
    "sns.boxplot(x='target',data=train_data,ax=ax,orient='h')\n",
    "ax.set_xlabel('target [µg/m^3]')\n",
    "ax.set_title('data of all sites')\n",
    "#upperbound = 1.5 * (train_data['target'].quantile(.75) - train_data['target'].quantile(.25)) + train_data['target'].quantile(.75)\n",
    "#print(len(train_data[train_data['target']<upperbound]))\n",
    "#print(len(train_data[train_data['target']>=upperbound]))\n"
   ]
  },
  {
   "cell_type": "code",
   "execution_count": 373,
   "metadata": {},
   "outputs": [
    {
     "name": "stdout",
     "output_type": "stream",
     "text": [
      "<class 'pandas.core.frame.DataFrame'>\n",
      "RangeIndex: 15539 entries, 0 to 15538\n",
      "Data columns (total 15 columns):\n",
      " #   Column             Non-Null Count  Dtype  \n",
      "---  ------             --------------  -----  \n",
      " 0   ID                 15539 non-null  object \n",
      " 1   location           15539 non-null  object \n",
      " 2   temp               15539 non-null  object \n",
      " 3   precip             15539 non-null  object \n",
      " 4   rel_humidity       15539 non-null  object \n",
      " 5   wind_dir           15539 non-null  object \n",
      " 6   wind_spd           15539 non-null  object \n",
      " 7   atmos_press        15539 non-null  object \n",
      " 8   target             15539 non-null  float64\n",
      " 9   mean_temp          15539 non-null  float64\n",
      " 10  mean_precip        15539 non-null  float64\n",
      " 11  mean_rel_humidity  15539 non-null  float64\n",
      " 12  mean_wind_dir      15539 non-null  float64\n",
      " 13  mean_wind_spd      15539 non-null  float64\n",
      " 14  mean_atmos_press   15539 non-null  float64\n",
      "dtypes: float64(7), object(8)\n",
      "memory usage: 1.8+ MB\n"
     ]
    }
   ],
   "source": [
    "# remove np.nan values in features and add columns with statistics\n",
    "for col_name in train_data.columns.drop(['ID','location','target']):\n",
    "    train_data[col_name] = train_data[col_name].apply(remove_nan_values)\n",
    "    train_data = aggregate_features(train_data,col_name)\n",
    "train_data.info()    "
   ]
  },
  {
   "cell_type": "code",
   "execution_count": 374,
   "metadata": {},
   "outputs": [],
   "source": [
    "# define features for modelling part\n",
    "features = ['mean_temp','mean_precip','mean_rel_humidity','mean_wind_dir','mean_wind_spd']"
   ]
  },
  {
   "cell_type": "code",
   "execution_count": 375,
   "metadata": {},
   "outputs": [
    {
     "data": {
      "text/html": [
       "<div>\n",
       "<style scoped>\n",
       "    .dataframe tbody tr th:only-of-type {\n",
       "        vertical-align: middle;\n",
       "    }\n",
       "\n",
       "    .dataframe tbody tr th {\n",
       "        vertical-align: top;\n",
       "    }\n",
       "\n",
       "    .dataframe thead th {\n",
       "        text-align: right;\n",
       "    }\n",
       "</style>\n",
       "<table border=\"1\" class=\"dataframe\">\n",
       "  <thead>\n",
       "    <tr style=\"text-align: right;\">\n",
       "      <th></th>\n",
       "      <th>mean_temp</th>\n",
       "      <th>mean_precip</th>\n",
       "      <th>mean_rel_humidity</th>\n",
       "      <th>mean_wind_dir</th>\n",
       "      <th>mean_wind_spd</th>\n",
       "    </tr>\n",
       "  </thead>\n",
       "  <tbody>\n",
       "    <tr>\n",
       "      <th>0</th>\n",
       "      <td>22.299527</td>\n",
       "      <td>0.000000</td>\n",
       "      <td>0.758530</td>\n",
       "      <td>209.574655</td>\n",
       "      <td>0.677348</td>\n",
       "    </tr>\n",
       "    <tr>\n",
       "      <th>1</th>\n",
       "      <td>24.679063</td>\n",
       "      <td>0.007025</td>\n",
       "      <td>0.758058</td>\n",
       "      <td>177.109855</td>\n",
       "      <td>0.899208</td>\n",
       "    </tr>\n",
       "    <tr>\n",
       "      <th>2</th>\n",
       "      <td>24.112317</td>\n",
       "      <td>0.151767</td>\n",
       "      <td>0.712944</td>\n",
       "      <td>201.373211</td>\n",
       "      <td>1.038656</td>\n",
       "    </tr>\n",
       "    <tr>\n",
       "      <th>3</th>\n",
       "      <td>20.845273</td>\n",
       "      <td>1.127273</td>\n",
       "      <td>0.898326</td>\n",
       "      <td>259.973977</td>\n",
       "      <td>1.365202</td>\n",
       "    </tr>\n",
       "    <tr>\n",
       "      <th>4</th>\n",
       "      <td>21.870732</td>\n",
       "      <td>0.005100</td>\n",
       "      <td>0.785134</td>\n",
       "      <td>181.944779</td>\n",
       "      <td>0.729763</td>\n",
       "    </tr>\n",
       "  </tbody>\n",
       "</table>\n",
       "</div>"
      ],
      "text/plain": [
       "   mean_temp  mean_precip  mean_rel_humidity  mean_wind_dir  mean_wind_spd\n",
       "0  22.299527     0.000000           0.758530     209.574655       0.677348\n",
       "1  24.679063     0.007025           0.758058     177.109855       0.899208\n",
       "2  24.112317     0.151767           0.712944     201.373211       1.038656\n",
       "3  20.845273     1.127273           0.898326     259.973977       1.365202\n",
       "4  21.870732     0.005100           0.785134     181.944779       0.729763"
      ]
     },
     "execution_count": 375,
     "metadata": {},
     "output_type": "execute_result"
    }
   ],
   "source": [
    "# separate target and feature variables\n",
    "y = train_data.pop('target')\n",
    "X = train_data[features]\n",
    "X.head()"
   ]
  },
  {
   "cell_type": "code",
   "execution_count": 376,
   "metadata": {},
   "outputs": [
    {
     "data": {
      "image/png": "[encoded data removed]",
      "text/plain": [
       "<Figure size 1152x648 with 5 Axes>"
      ]
     },
     "metadata": {
      "needs_background": "light"
     },
     "output_type": "display_data"
    }
   ],
   "source": [
    "# look at distributions of mean features\n",
    "fig,ax=plt.subplots(nrows=2,ncols=3,figsize=(16,9))\n",
    "ax = np.reshape(ax,6)\n",
    "units = ['[°C]','[mm]','[]','[°]','[m/s]']\n",
    "\n",
    "for i,variable in enumerate(features):\n",
    "    sns.boxplot(data=X[variable],ax=ax[i]) \n",
    "    ax[i].set_xlabel(variable)\n",
    "    ax[i].set_ylabel(units[i])\n",
    "ax[-1].remove()    "
   ]
  },
  {
   "cell_type": "code",
   "execution_count": 377,
   "metadata": {},
   "outputs": [
    {
     "name": "stdout",
     "output_type": "stream",
     "text": [
      "42.372336436960055\n"
     ]
    }
   ],
   "source": [
    "# perform and evaluate baseline model\n",
    "y_pred_baseline = np.ones(y.shape[0]) * np.mean(y)\n",
    "score = RMSE(y,y_pred_baseline)\n",
    "print(score)\n"
   ]
  }
 ],
 "metadata": {
  "interpreter": {
   "hash": "f0deb8fbd4aa7968e66c4f5a34bf95eee2b1832441fbdb636c0c8d4ddd3f80ae"
  },
  "kernelspec": {
   "display_name": "Python 3.9.4 64-bit ('.venv': venv)",
   "name": "python3"
  },
  "language_info": {
   "codemirror_mode": {
    "name": "ipython",
    "version": 3
   },
   "file_extension": ".py",
   "mimetype": "text/x-python",
   "name": "python",
   "nbconvert_exporter": "python",
   "pygments_lexer": "ipython3",
   "version": "3.9.4"
  },
  "orig_nbformat": 4
 },
 "nbformat": 4,
 "nbformat_minor": 2
}
